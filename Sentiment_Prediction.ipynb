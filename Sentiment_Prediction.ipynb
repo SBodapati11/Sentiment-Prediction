{
  "nbformat": 4,
  "nbformat_minor": 0,
  "metadata": {
    "colab": {
      "provenance": []
    },
    "kernelspec": {
      "name": "python3",
      "display_name": "Python 3"
    },
    "language_info": {
      "name": "python"
    },
    "accelerator": "GPU",
    "gpuClass": "standard"
  },
  "cells": [
    {
      "cell_type": "code",
      "execution_count": 1,
      "metadata": {
        "id": "YkwzrVfZ58fe"
      },
      "outputs": [],
      "source": [
        "# This notebook uses a dataset from the paper: 'From Group to Individual Labels using Deep Features', Kotzias et. al,. KDD 2015"
      ]
    },
    {
      "cell_type": "code",
      "source": [
        "# Imports\n",
        "import pandas as pd\n",
        "import numpy as np\n",
        "import tensorflow as tf\n",
        "import matplotlib.pyplot as plt\n",
        "import os\n",
        "from sklearn.feature_extraction.text import CountVectorizer\n",
        "from sklearn.naive_bayes import MultinomialNB"
      ],
      "metadata": {
        "id": "0RVnCKss7ecU"
      },
      "execution_count": 2,
      "outputs": []
    },
    {
      "cell_type": "code",
      "source": [
        "# Read in the data\n",
        "data = pd.read_csv('https://github.com/SBodapati11/Sentiment-Prediction/blob/main/yelp_labelled.txt?raw=true', sep=\"\\t\", header=None)\n",
        "data.columns = ['Review', 'Sentiment']"
      ],
      "metadata": {
        "id": "apwEF6Kq7zsa"
      },
      "execution_count": 3,
      "outputs": []
    },
    {
      "cell_type": "code",
      "source": [
        "# A sentiment score of 1 indicates a positive rating and 0 indicates a negative rating\n",
        "data.head()"
      ],
      "metadata": {
        "colab": {
          "base_uri": "https://localhost:8080/",
          "height": 206
        },
        "id": "_ETB-w3488B-",
        "outputId": "71a25d32-767e-48d8-eae6-13fb5a353190"
      },
      "execution_count": 4,
      "outputs": [
        {
          "output_type": "execute_result",
          "data": {
            "text/plain": [
              "                                              Review  Sentiment\n",
              "0                           Wow... Loved this place.          1\n",
              "1                                 Crust is not good.          0\n",
              "2          Not tasty and the texture was just nasty.          0\n",
              "3  Stopped by during the late May bank holiday of...          1\n",
              "4  The selection on the menu was great and so wer...          1"
            ],
            "text/html": [
              "\n",
              "  <div id=\"df-4daa667c-92d2-4f68-8339-94c787fca41c\">\n",
              "    <div class=\"colab-df-container\">\n",
              "      <div>\n",
              "<style scoped>\n",
              "    .dataframe tbody tr th:only-of-type {\n",
              "        vertical-align: middle;\n",
              "    }\n",
              "\n",
              "    .dataframe tbody tr th {\n",
              "        vertical-align: top;\n",
              "    }\n",
              "\n",
              "    .dataframe thead th {\n",
              "        text-align: right;\n",
              "    }\n",
              "</style>\n",
              "<table border=\"1\" class=\"dataframe\">\n",
              "  <thead>\n",
              "    <tr style=\"text-align: right;\">\n",
              "      <th></th>\n",
              "      <th>Review</th>\n",
              "      <th>Sentiment</th>\n",
              "    </tr>\n",
              "  </thead>\n",
              "  <tbody>\n",
              "    <tr>\n",
              "      <th>0</th>\n",
              "      <td>Wow... Loved this place.</td>\n",
              "      <td>1</td>\n",
              "    </tr>\n",
              "    <tr>\n",
              "      <th>1</th>\n",
              "      <td>Crust is not good.</td>\n",
              "      <td>0</td>\n",
              "    </tr>\n",
              "    <tr>\n",
              "      <th>2</th>\n",
              "      <td>Not tasty and the texture was just nasty.</td>\n",
              "      <td>0</td>\n",
              "    </tr>\n",
              "    <tr>\n",
              "      <th>3</th>\n",
              "      <td>Stopped by during the late May bank holiday of...</td>\n",
              "      <td>1</td>\n",
              "    </tr>\n",
              "    <tr>\n",
              "      <th>4</th>\n",
              "      <td>The selection on the menu was great and so wer...</td>\n",
              "      <td>1</td>\n",
              "    </tr>\n",
              "  </tbody>\n",
              "</table>\n",
              "</div>\n",
              "      <button class=\"colab-df-convert\" onclick=\"convertToInteractive('df-4daa667c-92d2-4f68-8339-94c787fca41c')\"\n",
              "              title=\"Convert this dataframe to an interactive table.\"\n",
              "              style=\"display:none;\">\n",
              "        \n",
              "  <svg xmlns=\"http://www.w3.org/2000/svg\" height=\"24px\"viewBox=\"0 0 24 24\"\n",
              "       width=\"24px\">\n",
              "    <path d=\"M0 0h24v24H0V0z\" fill=\"none\"/>\n",
              "    <path d=\"M18.56 5.44l.94 2.06.94-2.06 2.06-.94-2.06-.94-.94-2.06-.94 2.06-2.06.94zm-11 1L8.5 8.5l.94-2.06 2.06-.94-2.06-.94L8.5 2.5l-.94 2.06-2.06.94zm10 10l.94 2.06.94-2.06 2.06-.94-2.06-.94-.94-2.06-.94 2.06-2.06.94z\"/><path d=\"M17.41 7.96l-1.37-1.37c-.4-.4-.92-.59-1.43-.59-.52 0-1.04.2-1.43.59L10.3 9.45l-7.72 7.72c-.78.78-.78 2.05 0 2.83L4 21.41c.39.39.9.59 1.41.59.51 0 1.02-.2 1.41-.59l7.78-7.78 2.81-2.81c.8-.78.8-2.07 0-2.86zM5.41 20L4 18.59l7.72-7.72 1.47 1.35L5.41 20z\"/>\n",
              "  </svg>\n",
              "      </button>\n",
              "      \n",
              "  <style>\n",
              "    .colab-df-container {\n",
              "      display:flex;\n",
              "      flex-wrap:wrap;\n",
              "      gap: 12px;\n",
              "    }\n",
              "\n",
              "    .colab-df-convert {\n",
              "      background-color: #E8F0FE;\n",
              "      border: none;\n",
              "      border-radius: 50%;\n",
              "      cursor: pointer;\n",
              "      display: none;\n",
              "      fill: #1967D2;\n",
              "      height: 32px;\n",
              "      padding: 0 0 0 0;\n",
              "      width: 32px;\n",
              "    }\n",
              "\n",
              "    .colab-df-convert:hover {\n",
              "      background-color: #E2EBFA;\n",
              "      box-shadow: 0px 1px 2px rgba(60, 64, 67, 0.3), 0px 1px 3px 1px rgba(60, 64, 67, 0.15);\n",
              "      fill: #174EA6;\n",
              "    }\n",
              "\n",
              "    [theme=dark] .colab-df-convert {\n",
              "      background-color: #3B4455;\n",
              "      fill: #D2E3FC;\n",
              "    }\n",
              "\n",
              "    [theme=dark] .colab-df-convert:hover {\n",
              "      background-color: #434B5C;\n",
              "      box-shadow: 0px 1px 3px 1px rgba(0, 0, 0, 0.15);\n",
              "      filter: drop-shadow(0px 1px 2px rgba(0, 0, 0, 0.3));\n",
              "      fill: #FFFFFF;\n",
              "    }\n",
              "  </style>\n",
              "\n",
              "      <script>\n",
              "        const buttonEl =\n",
              "          document.querySelector('#df-4daa667c-92d2-4f68-8339-94c787fca41c button.colab-df-convert');\n",
              "        buttonEl.style.display =\n",
              "          google.colab.kernel.accessAllowed ? 'block' : 'none';\n",
              "\n",
              "        async function convertToInteractive(key) {\n",
              "          const element = document.querySelector('#df-4daa667c-92d2-4f68-8339-94c787fca41c');\n",
              "          const dataTable =\n",
              "            await google.colab.kernel.invokeFunction('convertToInteractive',\n",
              "                                                     [key], {});\n",
              "          if (!dataTable) return;\n",
              "\n",
              "          const docLinkHtml = 'Like what you see? Visit the ' +\n",
              "            '<a target=\"_blank\" href=https://colab.research.google.com/notebooks/data_table.ipynb>data table notebook</a>'\n",
              "            + ' to learn more about interactive tables.';\n",
              "          element.innerHTML = '';\n",
              "          dataTable['output_type'] = 'display_data';\n",
              "          await google.colab.output.renderOutput(dataTable, element);\n",
              "          const docLink = document.createElement('div');\n",
              "          docLink.innerHTML = docLinkHtml;\n",
              "          element.appendChild(docLink);\n",
              "        }\n",
              "      </script>\n",
              "    </div>\n",
              "  </div>\n",
              "  "
            ]
          },
          "metadata": {},
          "execution_count": 4
        }
      ]
    },
    {
      "cell_type": "code",
      "source": [
        "# Create directories for each class\n",
        "os.mkdir('/content/train/')\n",
        "os.mkdir('/content/train/0/')\n",
        "os.mkdir('/content/train/1/')"
      ],
      "metadata": {
        "id": "V-swXY1Qo6PE"
      },
      "execution_count": 5,
      "outputs": []
    },
    {
      "cell_type": "code",
      "source": [
        "# Go through each example and create a file with the text under the appropriate class\n",
        "for index, row in data.iterrows():\n",
        "  path = '/content/train/' + str(row['Sentiment']) + '/' + str(index) + '.txt'\n",
        "  with open(path, 'w') as f:\n",
        "    f.write(row['Review'])"
      ],
      "metadata": {
        "id": "_ViF0zgAE40Z"
      },
      "execution_count": 6,
      "outputs": []
    },
    {
      "cell_type": "code",
      "source": [
        "# Read in the training data as a tensorflow.data.Dataset\n",
        "train_dataset = tf.keras.utils.text_dataset_from_directory('/content/train', labels = 'inferred',\n",
        "                                                         label_mode = 'binary',\n",
        "                                                         batch_size = 32,\n",
        "                                                         validation_split=0.2,\n",
        "                                                         subset=\"training\",\n",
        "                                                         seed=10,\n",
        "                                                         shuffle = True)\n",
        "\n",
        "# Read in the testing data as a tensorflow.data.Dataset \n",
        "test_dataset = tf.keras.utils.text_dataset_from_directory('/content/train', labels = 'inferred',\n",
        "                                                         label_mode = 'binary',\n",
        "                                                         batch_size = 32,\n",
        "                                                         validation_split=0.2,\n",
        "                                                         subset=\"validation\",\n",
        "                                                         seed=10,\n",
        "                                                         shuffle = True)"
      ],
      "metadata": {
        "colab": {
          "base_uri": "https://localhost:8080/"
        },
        "id": "ZdRUUpWJSBSS",
        "outputId": "c3fe77d8-fdfa-4f68-9af8-c5167dbb842c"
      },
      "execution_count": 7,
      "outputs": [
        {
          "output_type": "stream",
          "name": "stdout",
          "text": [
            "Found 1000 files belonging to 2 classes.\n",
            "Using 800 files for training.\n",
            "Found 1000 files belonging to 2 classes.\n",
            "Using 200 files for validation.\n"
          ]
        }
      ]
    },
    {
      "cell_type": "code",
      "source": [
        "# Perform standardization, tokenization, and vectorization of the data\n",
        "# Standardization removes punctuation and converts to lowercase\n",
        "# Tokenization splits the text using whitespace as separator\n",
        "# Vectorization assigns an integer to each word and returns text as tensors\n",
        "\n",
        "# Create the vectorization layer\n",
        "vectorization_layer = tf.keras.layers.TextVectorization(max_tokens=10000, \n",
        "                                                        output_mode = 'int',\n",
        "                                                        output_sequence_length=250)\n",
        "\n",
        "# Add the layer to the text to create a dictionary\n",
        "vectorization_layer.adapt(train_dataset.map(lambda text, labels: text))\n",
        "\n",
        "# Function that applies the vectorization layer to a dataset\n",
        "def text_vectorization(text, label):\n",
        "  text = tf.expand_dims(text, -1)\n",
        "  return vectorization_layer(text), label\n",
        "\n",
        "# Apply the vectorization to each training and testing set\n",
        "tensor_train_data = train_dataset.map(text_vectorization)\n",
        "tensor_test_data = train_dataset.map(text_vectorization)"
      ],
      "metadata": {
        "id": "oaY6MUFJcVMI"
      },
      "execution_count": 8,
      "outputs": []
    },
    {
      "cell_type": "code",
      "source": [
        "# Optimize the datasets for performance\n",
        "train_data = tensor_train_data.cache().prefetch(buffer_size=tf.data.AUTOTUNE)\n",
        "test_data = tensor_test_data.cache().prefetch(buffer_size=tf.data.AUTOTUNE)"
      ],
      "metadata": {
        "id": "N_hd-mARPQU6"
      },
      "execution_count": 9,
      "outputs": []
    },
    {
      "cell_type": "code",
      "source": [
        "# Function to create and return a model\n",
        "def create_model(num_LSTM_layers=64, num_dense_layers=64, activation_function='relu', \n",
        "                 learning_rate=0.001, beta_1=0.9, beta_2=0.999, epsilon=1e-07):\n",
        "  # Create the model\n",
        "  model = tf.keras.Sequential([tf.keras.layers.Embedding(input_dim=len(vectorization_layer.get_vocabulary()),\n",
        "                                                        output_dim=1,\n",
        "                                                        mask_zero=True),\n",
        "                              tf.keras.layers.Bidirectional(tf.keras.layers.LSTM(num_LSTM_layers)),\n",
        "                              tf.keras.layers.Dense(num_dense_layers, activation=activation_function),\n",
        "                              tf.keras.layers.Dropout(0.2),\n",
        "                              tf.keras.layers.Dense(1)])\n",
        "  \n",
        "  # Compile the model\n",
        "  model.compile(loss=tf.keras.losses.BinaryCrossentropy(from_logits=True),\n",
        "                optimizer=tf.keras.optimizers.Adam(learning_rate=learning_rate,\n",
        "                                                   beta_1=beta_1,\n",
        "                                                   beta_2=beta_2,\n",
        "                                                   epsilon=epsilon),\n",
        "                metrics=['accuracy'])\n",
        "  \n",
        "  # Train the model over the training data\n",
        "  history = model.fit(train_data, epochs=6)\n",
        "  \n",
        "  return model, history"
      ],
      "metadata": {
        "id": "r5iTMkQo2WWp"
      },
      "execution_count": 13,
      "outputs": []
    },
    {
      "cell_type": "code",
      "source": [
        "# Function to plot the accuracies\n",
        "def plot_accuracies(model_name, history):\n",
        "  plt.plot(history.history['accuracy'])\n",
        "  plt.xlabel('Epochs')\n",
        "  plt.ylabel('Training Accuracy')\n",
        "  plt.title('History of ' + model_name)"
      ],
      "metadata": {
        "id": "XtlFrDPy9XmS"
      },
      "execution_count": 14,
      "outputs": []
    },
    {
      "cell_type": "code",
      "source": [
        "# Create and train the RNN model with default values and plot the accuracies\n",
        "model1, history1 = create_model()\n",
        "plot_accuracies(\"RNN Model 1\", history1)\n",
        "\n",
        "# Evaluate the model on the test data and output the loss and accuracy\n",
        "test_loss, test_acc = model1.evaluate(test_data)\n",
        "\n",
        "print('Test Loss:', test_loss)\n",
        "print('Test Accuracy:', test_acc)"
      ],
      "metadata": {
        "colab": {
          "base_uri": "https://localhost:8080/",
          "height": 555
        },
        "id": "1tOLmxrPAV8q",
        "outputId": "5cd7cd91-0eb3-4986-c92a-3e086c7d1450"
      },
      "execution_count": 15,
      "outputs": [
        {
          "output_type": "stream",
          "name": "stdout",
          "text": [
            "Epoch 1/6\n",
            "25/25 [==============================] - 13s 17ms/step - loss: 0.6937 - accuracy: 0.5063\n",
            "Epoch 2/6\n",
            "25/25 [==============================] - 0s 13ms/step - loss: 0.6928 - accuracy: 0.5063\n",
            "Epoch 3/6\n",
            "25/25 [==============================] - 0s 13ms/step - loss: 0.6862 - accuracy: 0.5063\n",
            "Epoch 4/6\n",
            "25/25 [==============================] - 0s 13ms/step - loss: 0.6517 - accuracy: 0.5437\n",
            "Epoch 5/6\n",
            "25/25 [==============================] - 0s 13ms/step - loss: 0.5384 - accuracy: 0.6075\n",
            "Epoch 6/6\n",
            "25/25 [==============================] - 0s 14ms/step - loss: 0.3988 - accuracy: 0.8338\n",
            "25/25 [==============================] - 2s 9ms/step - loss: 0.3078 - accuracy: 0.9013\n",
            "Test Loss: 0.3078034520149231\n",
            "Test Accuracy: 0.9012500047683716\n"
          ]
        },
        {
          "output_type": "display_data",
          "data": {
            "text/plain": [
              "<Figure size 432x288 with 1 Axes>"
            ],
            "image/png": "[encoded data removed]"
          },
          "metadata": {
            "needs_background": "light"
          }
        }
      ]
    },
    {
      "cell_type": "code",
      "source": [
        "# Create and train the RNN model with learning_rate=0.001 and beta_2=0.99\n",
        "model2, history2 = create_model(learning_rate=0.01, beta_2=0.99)\n",
        "plot_accuracies(\"RNN Model 2\", history2)\n",
        "\n",
        "# Evaluate the model on the test data and output the loss and accuracy\n",
        "test_loss, test_acc = model2.evaluate(test_data)\n",
        "\n",
        "print('Test Loss:', test_loss)\n",
        "print('Test Accuracy:', test_acc)"
      ],
      "metadata": {
        "colab": {
          "base_uri": "https://localhost:8080/",
          "height": 555
        },
        "id": "8exAXfsrtta9",
        "outputId": "349d1e9e-d15b-4ddb-f74f-9b276d8a3c7d"
      },
      "execution_count": 16,
      "outputs": [
        {
          "output_type": "stream",
          "name": "stdout",
          "text": [
            "Epoch 1/6\n",
            "25/25 [==============================] - 7s 13ms/step - loss: 0.6975 - accuracy: 0.5063\n",
            "Epoch 2/6\n",
            "25/25 [==============================] - 0s 13ms/step - loss: 0.6355 - accuracy: 0.6837\n",
            "Epoch 3/6\n",
            "25/25 [==============================] - 0s 13ms/step - loss: 0.2289 - accuracy: 0.9200\n",
            "Epoch 4/6\n",
            "25/25 [==============================] - 0s 13ms/step - loss: 0.1863 - accuracy: 0.9400\n",
            "Epoch 5/6\n",
            "25/25 [==============================] - 0s 13ms/step - loss: 0.0874 - accuracy: 0.9737\n",
            "Epoch 6/6\n",
            "25/25 [==============================] - 0s 13ms/step - loss: 0.0387 - accuracy: 0.9862\n",
            "25/25 [==============================] - 4s 6ms/step - loss: 0.0134 - accuracy: 0.9962\n",
            "Test Loss: 0.013440613634884357\n",
            "Test Accuracy: 0.9962499737739563\n"
          ]
        },
        {
          "output_type": "display_data",
          "data": {
            "text/plain": [
              "<Figure size 432x288 with 1 Axes>"
            ],
            "image/png": "[encoded data removed]"
          },
          "metadata": {
            "needs_background": "light"
          }
        }
      ]
    },
    {
      "cell_type": "code",
      "source": [
        "# Create and train the RNN model with beta_1=0.8 and epsilon=1e-06\n",
        "model3, history3 = create_model(beta_1=0.8, epsilon=1e-06)\n",
        "plot_accuracies(\"RNN Model 3\", history3)\n",
        "\n",
        "# Evaluate the model on the test data and output the loss and accuracy\n",
        "test_loss, test_acc = model3.evaluate(test_data)\n",
        "\n",
        "print('Test Loss:', test_loss)\n",
        "print('Test Accuracy:', test_acc)"
      ],
      "metadata": {
        "colab": {
          "base_uri": "https://localhost:8080/",
          "height": 555
        },
        "id": "jEoLnG4ou66N",
        "outputId": "1ac63881-79d0-4d55-ed13-f47ee455421c"
      },
      "execution_count": 17,
      "outputs": [
        {
          "output_type": "stream",
          "name": "stdout",
          "text": [
            "Epoch 1/6\n",
            "25/25 [==============================] - 8s 23ms/step - loss: 0.6934 - accuracy: 0.5063\n",
            "Epoch 2/6\n",
            "25/25 [==============================] - 1s 24ms/step - loss: 0.6887 - accuracy: 0.5063\n",
            "Epoch 3/6\n",
            "25/25 [==============================] - 1s 21ms/step - loss: 0.6594 - accuracy: 0.5100\n",
            "Epoch 4/6\n",
            "25/25 [==============================] - 1s 25ms/step - loss: 0.5234 - accuracy: 0.6475\n",
            "Epoch 5/6\n",
            "25/25 [==============================] - 1s 27ms/step - loss: 0.3951 - accuracy: 0.8475\n",
            "Epoch 6/6\n",
            "25/25 [==============================] - 1s 27ms/step - loss: 0.2883 - accuracy: 0.9112\n",
            "25/25 [==============================] - 5s 6ms/step - loss: 0.2219 - accuracy: 0.9300\n",
            "Test Loss: 0.22186973690986633\n",
            "Test Accuracy: 0.9300000071525574\n"
          ]
        },
        {
          "output_type": "display_data",
          "data": {
            "text/plain": [
              "<Figure size 432x288 with 1 Axes>"
            ],
            "image/png": "[encoded data removed]"
          },
          "metadata": {
            "needs_background": "light"
          }
        }
      ]
    },
    {
      "cell_type": "code",
      "source": [
        "# Create and train the RNN model with num_LSTM_layers=32 and num_dense_layers=32\n",
        "model4, history4 = create_model(num_LSTM_layers=32, num_dense_layers=32)\n",
        "plot_accuracies(\"RNN Model 4\", history4)\n",
        "\n",
        "# Evaluate the model on the test data and output the loss and accuracy\n",
        "test_loss, test_acc = model4.evaluate(test_data)\n",
        "\n",
        "print('Test Loss:', test_loss)\n",
        "print('Test Accuracy:', test_acc)"
      ],
      "metadata": {
        "colab": {
          "base_uri": "https://localhost:8080/",
          "height": 555
        },
        "id": "pkUDLr2ovR8-",
        "outputId": "14a6a967-b3e6-4efa-eff3-33cd067da925"
      },
      "execution_count": 18,
      "outputs": [
        {
          "output_type": "stream",
          "name": "stdout",
          "text": [
            "Epoch 1/6\n",
            "25/25 [==============================] - 9s 13ms/step - loss: 0.6935 - accuracy: 0.5063\n",
            "Epoch 2/6\n",
            "25/25 [==============================] - 0s 15ms/step - loss: 0.6931 - accuracy: 0.5063\n",
            "Epoch 3/6\n",
            "25/25 [==============================] - 0s 14ms/step - loss: 0.6930 - accuracy: 0.5063\n",
            "Epoch 4/6\n",
            "25/25 [==============================] - 0s 14ms/step - loss: 0.6917 - accuracy: 0.5063\n",
            "Epoch 5/6\n",
            "25/25 [==============================] - 0s 15ms/step - loss: 0.6771 - accuracy: 0.5063\n",
            "Epoch 6/6\n",
            "25/25 [==============================] - 0s 14ms/step - loss: 0.5890 - accuracy: 0.5950\n",
            "25/25 [==============================] - 3s 10ms/step - loss: 0.4834 - accuracy: 0.7387\n",
            "Test Loss: 0.48344817757606506\n",
            "Test Accuracy: 0.7387499809265137\n"
          ]
        },
        {
          "output_type": "display_data",
          "data": {
            "text/plain": [
              "<Figure size 432x288 with 1 Axes>"
            ],
            "image/png": "[encoded data removed]"
          },
          "metadata": {
            "needs_background": "light"
          }
        }
      ]
    },
    {
      "cell_type": "code",
      "source": [
        "# Create and train the RNN model with activation_function='softmax'\n",
        "model5, history5 = create_model(activation_function='sigmoid')\n",
        "plot_accuracies(\"RNN Model 5\", history5)\n",
        "\n",
        "# Evaluate the model on the test data and output the loss and accuracy\n",
        "test_loss, test_acc = model5.evaluate(test_data)\n",
        "\n",
        "print('Test Loss:', test_loss)\n",
        "print('Test Accuracy:', test_acc)"
      ],
      "metadata": {
        "colab": {
          "base_uri": "https://localhost:8080/",
          "height": 555
        },
        "id": "gnB11o7zvkYN",
        "outputId": "78a46bfe-2bc6-4c78-ce50-dd4d758ff6c9"
      },
      "execution_count": 19,
      "outputs": [
        {
          "output_type": "stream",
          "name": "stdout",
          "text": [
            "Epoch 1/6\n",
            "25/25 [==============================] - 8s 14ms/step - loss: 0.7180 - accuracy: 0.5050\n",
            "Epoch 2/6\n",
            "25/25 [==============================] - 0s 13ms/step - loss: 0.7175 - accuracy: 0.5013\n",
            "Epoch 3/6\n",
            "25/25 [==============================] - 0s 13ms/step - loss: 0.7129 - accuracy: 0.4988\n",
            "Epoch 4/6\n",
            "25/25 [==============================] - 0s 13ms/step - loss: 0.7079 - accuracy: 0.5000\n",
            "Epoch 5/6\n",
            "25/25 [==============================] - 0s 13ms/step - loss: 0.7008 - accuracy: 0.5138\n",
            "Epoch 6/6\n",
            "25/25 [==============================] - 0s 13ms/step - loss: 0.6608 - accuracy: 0.5462\n",
            "25/25 [==============================] - 3s 5ms/step - loss: 0.5714 - accuracy: 0.6050\n",
            "Test Loss: 0.5713984966278076\n",
            "Test Accuracy: 0.6050000190734863\n"
          ]
        },
        {
          "output_type": "display_data",
          "data": {
            "text/plain": [
              "<Figure size 432x288 with 1 Axes>"
            ],
            "image/png": "[encoded data removed]"
          },
          "metadata": {
            "needs_background": "light"
          }
        }
      ]
    },
    {
      "cell_type": "code",
      "source": [
        "# Use the best model and find 10 misclassified examples in the test dataset\n",
        "# For the predictions, a value >= 0 indicates a positive sentiment and < 0 indicates negative\n",
        "predicted = model2.predict(test_data)\n",
        "\n",
        "count = 0\n",
        "i = 0\n",
        "for text, true_label in test_dataset.take(3):\n",
        "  if count == 10:\n",
        "    break\n",
        "  for i in range(len(text)):\n",
        "    if count == 10:\n",
        "      break\n",
        "    predicted_class = 0\n",
        "    if predicted[i][0] >= 0:\n",
        "      predicted_class = 1\n",
        "    if true_label.numpy()[i] != predicted_class:\n",
        "      print('Text: ', text.numpy()[i])\n",
        "      print('True Label: ', true_label.numpy()[i])\n",
        "      print('Predicted Label: ', predicted_class)\n",
        "      print()\n",
        "      count += 1"
      ],
      "metadata": {
        "colab": {
          "base_uri": "https://localhost:8080/"
        },
        "id": "49LQKnz7JlNt",
        "outputId": "c40a52ab-1e2f-471a-cee1-79c511f3f4a8"
      },
      "execution_count": 22,
      "outputs": [
        {
          "output_type": "stream",
          "name": "stdout",
          "text": [
            "25/25 [==============================] - 0s 7ms/step\n",
            "Text:  b'Service stinks here!'\n",
            "True Label:  [0.]\n",
            "Predicted Label:  1\n",
            "\n",
            "Text:  b\"The whole experience was underwhelming, and I think we'll just go to Ninja Sushi next time.\"\n",
            "True Label:  [0.]\n",
            "Predicted Label:  1\n",
            "\n",
            "Text:  b'Their regular toasted bread was equally satisfying with the occasional pats of butter... Mmmm...!'\n",
            "True Label:  [1.]\n",
            "Predicted Label:  0\n",
            "\n",
            "Text:  b'It was pretty gross!'\n",
            "True Label:  [0.]\n",
            "Predicted Label:  1\n",
            "\n",
            "Text:  b\"If the food isn't bad enough for you, then enjoy dealing with the world's worst/annoying drunk people.\"\n",
            "True Label:  [0.]\n",
            "Predicted Label:  1\n",
            "\n",
            "Text:  b'Our server was super nice and checked on us many times.'\n",
            "True Label:  [1.]\n",
            "Predicted Label:  0\n",
            "\n",
            "Text:  b'The pan cakes everyone are raving about taste like a sugary disaster tailored to the palate of a six year old.'\n",
            "True Label:  [0.]\n",
            "Predicted Label:  1\n",
            "\n",
            "Text:  b\"Overall, I don't think that I would take my parents to this place again because they made most of the similar complaints that I silently felt too.\"\n",
            "True Label:  [0.]\n",
            "Predicted Label:  1\n",
            "\n",
            "Text:  b'it was a drive to get there.'\n",
            "True Label:  [0.]\n",
            "Predicted Label:  1\n",
            "\n",
            "Text:  b\"Owner's are really great people.!\"\n",
            "True Label:  [1.]\n",
            "Predicted Label:  0\n",
            "\n"
          ]
        }
      ]
    },
    {
      "cell_type": "code",
      "source": [
        "# Get the same training and testing data that we used earlier\n",
        "x_train, x_test, y_train, y_test = [], [], [], []\n",
        "\n",
        "# Get the training data\n",
        "for text_batch, label_batch in train_dataset:\n",
        "  for i in range(len(text_batch)):\n",
        "    x_train.append(text_batch[i].numpy())\n",
        "    y_train.append(int(label_batch[i].numpy()[0]))\n",
        "\n",
        "# Get the testing data\n",
        "for text_batch, label_batch in test_dataset:\n",
        "  for i in range(len(text_batch)):\n",
        "    x_test.append(text_batch[i].numpy())\n",
        "    y_test.append(int(label_batch[i].numpy()[0]))"
      ],
      "metadata": {
        "id": "2hIbEKUy2EEZ"
      },
      "execution_count": 38,
      "outputs": []
    },
    {
      "cell_type": "code",
      "source": [
        "# Perform vectorization of the words. By default, CountVectorizers \n",
        "# lowers all the characters and removes punctuation\n",
        "vectorizer = CountVectorizer()\n",
        "x_train_arr = vectorizer.fit_transform(x_train).toarray()\n",
        "x_test_arr = vectorizer.transform(x_test).toarray()"
      ],
      "metadata": {
        "id": "tsu9WhwS52Mz"
      },
      "execution_count": 39,
      "outputs": []
    },
    {
      "cell_type": "code",
      "source": [
        "# Creates the Gaussian Naive Bayes Classifier with given parameters, \n",
        "# trains it over the training data, and returns the accuracy\n",
        "# over the testing data\n",
        "def create_model(alpha=1.0, fit_prior=True, class_prior=None):\n",
        "  model = MultinomialNB(alpha=alpha, fit_prior=fit_prior, class_prior=class_prior)\n",
        "  model.fit(x_train_arr, y_train)\n",
        "  return model, model.score(x_test_arr, y_test)"
      ],
      "metadata": {
        "id": "lr_NVjU3-RLq"
      },
      "execution_count": 40,
      "outputs": []
    },
    {
      "cell_type": "code",
      "source": [
        "# Create the model with default parameters\n",
        "model1, acc1 = create_model()\n",
        "acc1"
      ],
      "metadata": {
        "colab": {
          "base_uri": "https://localhost:8080/"
        },
        "id": "m4M1gB0HBJ29",
        "outputId": "4a3b2b3d-bb92-4d5f-bb7f-7062954215b1"
      },
      "execution_count": 41,
      "outputs": [
        {
          "output_type": "execute_result",
          "data": {
            "text/plain": [
              "0.775"
            ]
          },
          "metadata": {},
          "execution_count": 41
        }
      ]
    },
    {
      "cell_type": "code",
      "source": [
        "# Create the model with alpha=1e-10\n",
        "model2, acc2 = create_model(alpha=1e-10)\n",
        "acc2"
      ],
      "metadata": {
        "colab": {
          "base_uri": "https://localhost:8080/"
        },
        "id": "etIk7zOGBasB",
        "outputId": "bc13381f-0bd1-490b-f2e2-8d8cf4593ec9"
      },
      "execution_count": 42,
      "outputs": [
        {
          "output_type": "execute_result",
          "data": {
            "text/plain": [
              "0.735"
            ]
          },
          "metadata": {},
          "execution_count": 42
        }
      ]
    },
    {
      "cell_type": "code",
      "source": [
        "# Create the model with fit_prior=False (sets equal prior weights)\n",
        "model3, acc3 = create_model(fit_prior=False)\n",
        "acc3"
      ],
      "metadata": {
        "colab": {
          "base_uri": "https://localhost:8080/"
        },
        "id": "vJx74hRDD34B",
        "outputId": "54803a1e-8218-4103-cf6d-abc2fcf2b7c2"
      },
      "execution_count": 43,
      "outputs": [
        {
          "output_type": "execute_result",
          "data": {
            "text/plain": [
              "0.78"
            ]
          },
          "metadata": {},
          "execution_count": 43
        }
      ]
    },
    {
      "cell_type": "code",
      "source": [
        "# Create the model with class_prior=[0.25, 0.75]\n",
        "model4, acc4 = create_model(class_prior=[0.25, 0.75])\n",
        "acc4"
      ],
      "metadata": {
        "colab": {
          "base_uri": "https://localhost:8080/"
        },
        "id": "5uCnNRz-EGrN",
        "outputId": "a1b96487-91bc-4960-b4be-1914958b9161"
      },
      "execution_count": 44,
      "outputs": [
        {
          "output_type": "execute_result",
          "data": {
            "text/plain": [
              "0.785"
            ]
          },
          "metadata": {},
          "execution_count": 44
        }
      ]
    },
    {
      "cell_type": "code",
      "source": [
        "# Create the model with class_prior=[0.75, 0.25]\n",
        "model5, acc5 = create_model(class_prior=[0.75, 0.25])\n",
        "acc5"
      ],
      "metadata": {
        "colab": {
          "base_uri": "https://localhost:8080/"
        },
        "id": "gThNPklLEOs2",
        "outputId": "8022d89d-bd84-4820-b5dd-62dcc809461b"
      },
      "execution_count": 45,
      "outputs": [
        {
          "output_type": "execute_result",
          "data": {
            "text/plain": [
              "0.74"
            ]
          },
          "metadata": {},
          "execution_count": 45
        }
      ]
    },
    {
      "cell_type": "code",
      "source": [
        "# Use the best model and find 10 misclassified examples in the test dataset\n",
        "predicted = model4.predict(x_test_arr)\n",
        "\n",
        "count = 0\n",
        "i = 0\n",
        "while count < 10:\n",
        "  if predicted[i] != y_test[i]:\n",
        "    print('Text: ', x_test[i])\n",
        "    print('True Label: ', y_test[i])\n",
        "    print('Predicted Label: ', predicted[i])\n",
        "    print()\n",
        "    count += 1\n",
        "  i += 1"
      ],
      "metadata": {
        "colab": {
          "base_uri": "https://localhost:8080/"
        },
        "id": "WlOtdaEsWEPe",
        "outputId": "f6e021bb-876c-4fcb-f0d5-ebab275b2fe7"
      },
      "execution_count": 48,
      "outputs": [
        {
          "output_type": "stream",
          "name": "stdout",
          "text": [
            "Text:  b\"The ambiance isn't much better.\"\n",
            "True Label:  0\n",
            "Predicted Label:  1\n",
            "\n",
            "Text:  b'The server was very negligent of our needs and made us feel very unwelcome... I would not suggest this place!'\n",
            "True Label:  0\n",
            "Predicted Label:  1\n",
            "\n",
            "Text:  b\"The food wasn't good.\"\n",
            "True Label:  0\n",
            "Predicted Label:  1\n",
            "\n",
            "Text:  b'The Burrittos Blah!'\n",
            "True Label:  0\n",
            "Predicted Label:  1\n",
            "\n",
            "Text:  b'The service was a bit lacking.'\n",
            "True Label:  0\n",
            "Predicted Label:  1\n",
            "\n",
            "Text:  b'it was a drive to get there.'\n",
            "True Label:  0\n",
            "Predicted Label:  1\n",
            "\n",
            "Text:  b\"I wouldn't return.\"\n",
            "True Label:  0\n",
            "Predicted Label:  1\n",
            "\n",
            "Text:  b'What SHOULD have been a hilarious, yummy Christmas Eve dinner to remember was the biggest fail of the entire trip for us.'\n",
            "True Label:  0\n",
            "Predicted Label:  1\n",
            "\n",
            "Text:  b'Today was my first taste of a Buldogis Gourmet Hot Dog and I have to tell you it was more than I ever thought possible.'\n",
            "True Label:  1\n",
            "Predicted Label:  0\n",
            "\n",
            "Text:  b'If you want a sandwich just go to any Firehouse!!!!!'\n",
            "True Label:  1\n",
            "Predicted Label:  0\n",
            "\n"
          ]
        }
      ]
    }
  ]
}